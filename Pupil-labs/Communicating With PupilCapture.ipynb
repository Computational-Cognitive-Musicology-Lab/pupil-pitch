{
 "cells": [
  {
   "cell_type": "code",
   "execution_count": null,
   "id": "e0081724",
   "metadata": {},
   "outputs": [],
   "source": [
    "import zmq\n",
    "import msgpack as serializer\n",
    "\n",
    "from time import sleep, time\n",
    "\n",
    "# Setup zmq context and remote helper\n",
    "ctx = zmq.Context()\n",
    "pupil_remote = zmq.Socket(ctx, zmq.REQ)\n",
    "pupil_remote.connect('tcp://127.0.0.1:50020')\n",
    "\n",
    "pupil_remote.send_string(\"PUB_PORT\")\n",
    "pub_port = pupil_remote.recv_string()\n",
    "pub_socket = zmq.Socket(ctx, zmq.PUB)\n",
    "pub_socket.connect(\"tcp://127.0.0.1:\" + str(pub_port))\n",
    "def notify(notification):\n",
    "    \"\"\"Sends ``notification`` to Pupil Remote\"\"\"\n",
    "    topic = \"notify.\" + notification[\"subject\"]\n",
    "    payload = serializer.dumps(notification, use_bin_type=True)\n",
    "    pupil_remote.send_string(topic, flags=zmq.SNDMORE)\n",
    "    pupil_remote.send(payload)\n",
    "    return pupil_remote.recv_string()\n",
    "\n",
    "def send_trigger(trigger):\n",
    "    payload = serializer.dumps(trigger, use_bin_type=True)\n",
    "    pub_socket.send_string(trigger[\"topic\"], flags=zmq.SNDMORE)\n",
    "    pub_socket.send(payload)\n",
    "def new_trigger(label, duration):\n",
    "    return {\n",
    "    \"topic\": \"annotation\",\n",
    "    \"label\": label,\n",
    "    \"timestamp\": time_fn(),\n",
    "    \"duration\": duration,\n",
    "    }\n",
    "time_fn = core.monotonicClock.getTime\n",
    "\n",
    "# set pupil's time to psychopy time\n",
    "pupil_remote.send_string(\"T \" + str(time_fn()))\n",
    "print(pupil_remote.recv_string())\n",
    "sleep(2.)\n"
   ]
  },
  {
   "cell_type": "markdown",
   "id": "b59f422a",
   "metadata": {},
   "source": [
    "## Begin Recording and Annotations\n"
   ]
  },
  {
   "cell_type": "code",
   "execution_count": null,
   "id": "38f150b7",
   "metadata": {},
   "outputs": [],
   "source": [
    "if eyetracking == '1':    \n",
    "    time_fn = core.monotonicClock.getTime\n",
    "    name = expInfo['participant']\n",
    "    rstring ='R '+ str(name) \n",
    "    pupil_remote.send_string(rstring)\n",
    "    print(pupil_remote.recv_string())\n",
    "    sleep(0.25)\n",
    "    label = \"start_of_experiment\"\n",
    "    duration = 0.\n",
    "    minimal_trigger = new_trigger(label, duration)\n",
    "    send_trigger(minimal_trigger)\n",
    "    sleep(0.25)\n",
    "else:\n",
    "    continueRoutine = False"
   ]
  },
  {
   "cell_type": "markdown",
   "id": "1994631b",
   "metadata": {},
   "source": [
    "## Annotations\n"
   ]
  },
  {
   "cell_type": "code",
   "execution_count": null,
   "id": "9c577f72",
   "metadata": {},
   "outputs": [],
   "source": [
    "time_fn = core.monotonicClock.getTime\n",
    "label = \"Reference_tone\"\n",
    "duration = 0.\n",
    "minimal_trigger = new_trigger(label, duration)\n",
    "send_trigger(minimal_trigger)\n",
    "sleep(1.)"
   ]
  },
  {
   "cell_type": "markdown",
   "id": "b930e7eb",
   "metadata": {},
   "source": [
    "## End Recording"
   ]
  },
  {
   "cell_type": "code",
   "execution_count": null,
   "id": "a52e0425",
   "metadata": {},
   "outputs": [],
   "source": [
    "time_fn = core.monotonicClock.getTime\n",
    "pupil_remote.send_string('r')\n",
    "print(pupil_remote.recv_string())\n",
    "label = \"End_of_Block\"\n",
    "duration = 0.\n",
    "minimal_trigger = new_trigger(label, duration)\n",
    "send_trigger(minimal_trigger)\n",
    "sleep(1.)"
   ]
  }
 ],
 "metadata": {
  "kernelspec": {
   "display_name": "Python 3",
   "language": "python",
   "name": "python3"
  },
  "language_info": {
   "codemirror_mode": {
    "name": "ipython",
    "version": 3
   },
   "file_extension": ".py",
   "mimetype": "text/x-python",
   "name": "python",
   "nbconvert_exporter": "python",
   "pygments_lexer": "ipython3",
   "version": "3.8.8"
  }
 },
 "nbformat": 4,
 "nbformat_minor": 5
}
