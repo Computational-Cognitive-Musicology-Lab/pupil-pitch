{
 "cells": [
  {
   "cell_type": "code",
   "execution_count": 1,
   "metadata": {},
   "outputs": [
    {
     "data": {
      "text/plain": [
       "'OK'"
      ]
     },
     "execution_count": 1,
     "metadata": {},
     "output_type": "execute_result"
    }
   ],
   "source": [
    "from time import sleep\n",
    "from pyplr.pupil import PupilCore\n",
    "\n",
    "p = PupilCore()\n",
    "\n",
    "p.command('R our_recording')\n",
    "\n",
    "sleep(2)\n",
    "\n",
    "p.command('r') "
   ]
  },
  {
   "cell_type": "code",
   "execution_count": 2,
   "metadata": {},
   "outputs": [],
   "source": [
    "import zmq\n",
    "import msgpack as serializer"
   ]
  },
  {
   "cell_type": "markdown",
   "metadata": {},
   "source": [
    "- 'R'  # start recording with auto generated session name\n",
    "- 'R rec_name'  # start recording named \"rec_name\"\n",
    "- 'r'  # stop recording\n",
    "- 'C'  # start currently selected calibration\n",
    "- 'c'  # stop currently selected calibration\n",
    "- 'T 1234.56'  # resets current Pupil time to given timestamp\n",
    "- 't'  # get current Pupil time; returns a float as string.\n",
    "- 'v'  # get the Pupil Core software version string\n",
    "\n",
    "# IPC Backbone communication\n",
    "'PUB_PORT'  # return the current pub port of the IPC Backbone\n",
    "'SUB_PORT'  # return the current sub port of the IPC Backbone\n",
    "- https://github.com/pupil-labs/pupil-helpers/blob/master/python/pupil_remote_control.py"
   ]
  },
  {
   "cell_type": "code",
   "execution_count": 3,
   "metadata": {},
   "outputs": [
    {
     "data": {
      "text/plain": [
       "<contextlib._GeneratorContextManager at 0x7fcdc0317730>"
      ]
     },
     "execution_count": 3,
     "metadata": {},
     "output_type": "execute_result"
    }
   ],
   "source": [
    "    ctx = zmq.Context()\n",
    "    socket = zmq.Socket(ctx, zmq.REQ)\n",
    "    socket.connect(\"tcp://127.0.0.1:50020\")"
   ]
  },
  {
   "cell_type": "code",
   "execution_count": 4,
   "metadata": {},
   "outputs": [
    {
     "name": "stdout",
     "output_type": "stream",
     "text": [
      "887.4733089959991\n",
      "Round trip command delay: 0.0006852149963378906\n"
     ]
    }
   ],
   "source": [
    "    from time import sleep, time\n",
    "    t = time()\n",
    "    socket.send_string(\"t\")\n",
    "    print(socket.recv_string())\n",
    "    print(\"Round trip command delay:\", time() - t)"
   ]
  },
  {
   "cell_type": "markdown",
   "metadata": {},
   "source": [
    "### Sending Remote Annotations\n",
    "https://github.com/pupil-labs/pupil-helpers/blob/master/python/remote_annotations.py"
   ]
  },
  {
   "cell_type": "code",
   "execution_count": 6,
   "metadata": {},
   "outputs": [
    {
     "name": "stdout",
     "output_type": "stream",
     "text": [
      "Found Pupil Capture\n",
      "Pupil time actual: 15932.337540857001\n",
      "Local time actual: 498.319024954\n",
      "Stable offset: 15434.01860520365\n",
      "Pupil time (calculated locally): 15932.33763015765\n"
     ]
    }
   ],
   "source": [
    "import zmq\n",
    "import msgpack as serializer\n",
    "import time\n",
    "import socket\n",
    "import sys\n",
    "\n",
    "\n",
    "def main(ip_address: str = \"127.0.0.1\", port: int = 50020):\n",
    "    \"\"\"\n",
    "    This example performs these steps:\n",
    "    1. Setup network connection\n",
    "    2. Setup \"local\" clock function\n",
    "    3. Measure clock offset accounting for network latency variance\n",
    "    4. Prepare and send annotations\n",
    "    \"\"\"\n",
    "\n",
    "    # 1. Setup network connection\n",
    "    check_capture_exists(ip_address, port)\n",
    "    pupil_remote, pub_socket = setup_pupil_remote_connection(ip_address, port)\n",
    "\n",
    "    # 2. Setup local clock function\n",
    "    local_clock = time.perf_counter\n",
    "\n",
    "    # 3. Measure clock offset accounting for network latency\n",
    "    stable_offset_mean = measure_clock_offset_stable(\n",
    "        pupil_remote, clock_function=local_clock, n_samples=10\n",
    "    )\n",
    "\n",
    "    pupil_time_actual = request_pupil_time(pupil_remote)\n",
    "    local_time_actual = local_clock()\n",
    "    pupil_time_calculated_locally = local_time_actual + stable_offset_mean\n",
    "    print(f\"Pupil time actual: {pupil_time_actual}\")\n",
    "    print(f\"Local time actual: {local_time_actual}\")\n",
    "    print(f\"Stable offset: {stable_offset_mean}\")\n",
    "    print(f\"Pupil time (calculated locally): {pupil_time_calculated_locally}\")\n",
    "\n",
    "    # 4. Prepare and send annotations\n",
    "    # Start the annotations plugin\n",
    "    notify(\n",
    "        pupil_remote,\n",
    "        {\"subject\": \"start_plugin\", \"name\": \"Annotation_Capture\", \"args\": {}},\n",
    "    )\n",
    "\n",
    "    # start a recording (necessary for this example script)\n",
    "    pupil_remote.send_string(\"R\")\n",
    "    pupil_remote.recv_string()\n",
    "    time.sleep(1.0)  # sleep for a few seconds, can be less\n",
    "\n",
    "    # Send an annotation.\n",
    "    # We send a timestamp sampled from the local clock (e.g. that corresponds to a\n",
    "    # trigger event, or a stimulus that was presented). The clock offset that we\n",
    "    # measured in step 3 will be added to the timestamp to correctly align it with\n",
    "    # Pupil Time. The annotation will be saved to annotation.pldata if a recording is\n",
    "    # running. The Annotation_Player plugin will automatically retrieve, display and\n",
    "    # export all recorded annotations.\n",
    "    local_time = local_clock()\n",
    "    label = \"custom_annotation_label\"\n",
    "    duration = 0.0\n",
    "    minimal_trigger = new_trigger(label, duration, local_time + stable_offset_mean)\n",
    "    send_trigger(pub_socket, minimal_trigger)\n",
    "    time.sleep(1.0)  # sleep for a few seconds, can be less\n",
    "\n",
    "    # Send another trigger with the current time\n",
    "    local_time = local_clock()\n",
    "    minimal_trigger = new_trigger(label, duration, local_time + stable_offset_mean)\n",
    "    send_trigger(pub_socket, minimal_trigger)\n",
    "\n",
    "    # Add custom keys to your annotation\n",
    "    minimal_trigger[\"custom_key\"] = \"custom value\"\n",
    "    send_trigger(pub_socket, minimal_trigger)\n",
    "    time.sleep(1.0)  # sleep for a few seconds, can be less\n",
    "\n",
    "    # stop recording\n",
    "    pupil_remote.send_string(\"r\")\n",
    "    pupil_remote.recv_string()\n",
    "\n",
    "\n",
    "def check_capture_exists(ip_address, port):\n",
    "    \"\"\"check pupil capture instance exists\"\"\"\n",
    "    with socket.socket(socket.AF_INET, socket.SOCK_STREAM) as sock:\n",
    "        if not sock.connect_ex((ip_address, port)):\n",
    "            print(\"Found Pupil Capture\")\n",
    "        else:\n",
    "            print(\"Cannot find Pupil Capture\")\n",
    "            sys.exit()\n",
    "\n",
    "\n",
    "def setup_pupil_remote_connection(ip_address, port):\n",
    "    \"\"\"Creates a zmq-REQ socket and connects it to Pupil Capture or Service\n",
    "    to send and receive notifications.\n",
    "    We also set up a PUB socket to send the annotations. This is necessary to write\n",
    "    messages to the IPC Backbone other than notifications\n",
    "    See https://docs.pupil-labs.com/developer/core/network-api/ for details.\n",
    "    \"\"\"\n",
    "    # zmq-REQ socket\n",
    "    ctx = zmq.Context.instance()\n",
    "    pupil_remote = ctx.socket(zmq.REQ)\n",
    "    pupil_remote.connect(f\"tcp://{ip_address}:{port}\")\n",
    "\n",
    "    # PUB socket\n",
    "    pupil_remote.send_string(\"PUB_PORT\")\n",
    "    pub_port = pupil_remote.recv_string()\n",
    "    pub_socket = zmq.Socket(ctx, zmq.PUB)\n",
    "    pub_socket.connect(\"tcp://127.0.0.1:{}\".format(pub_port))\n",
    "\n",
    "    return pupil_remote, pub_socket\n",
    "\n",
    "\n",
    "def request_pupil_time(pupil_remote):\n",
    "    \"\"\"Uses an existing Pupil Core software connection to request the remote time.\n",
    "    Returns the current \"pupil time\" at the timepoint of reception.\n",
    "    See https://docs.pupil-labs.com/core/terminology/#pupil-time for more information\n",
    "    about \"pupil time\".\n",
    "    \"\"\"\n",
    "    pupil_remote.send_string(\"t\")\n",
    "    pupil_time = pupil_remote.recv()\n",
    "    return float(pupil_time)\n",
    "\n",
    "\n",
    "def measure_clock_offset(pupil_remote, clock_function):\n",
    "    \"\"\"Calculates the offset between the Pupil Core software clock and a local clock.\n",
    "    Requesting the remote pupil time takes time. This delay needs to be considered\n",
    "    when calculating the clock offset. We measure the local time before (A) and\n",
    "    after (B) the request and assume that the remote pupil time was measured at (A+B)/2,\n",
    "    i.e. the midpoint between A and B.\n",
    "    As a result, we have two measurements from two different clocks that were taken\n",
    "    assumingly at the same point in time. The difference between them (\"clock offset\")\n",
    "    allows us, given a new local clock measurement, to infer the corresponding time on\n",
    "    the remote clock.\n",
    "    \"\"\"\n",
    "    local_time_before = clock_function()\n",
    "    pupil_time = request_pupil_time(pupil_remote)\n",
    "    local_time_after = clock_function()\n",
    "\n",
    "    local_time = (local_time_before + local_time_after) / 2.0\n",
    "    clock_offset = pupil_time - local_time\n",
    "    return clock_offset\n",
    "\n",
    "\n",
    "def measure_clock_offset_stable(pupil_remote, clock_function, n_samples=10):\n",
    "    \"\"\"Returns the mean clock offset after multiple measurements to reduce the effect\n",
    "    of varying network delay.\n",
    "    Since the network connection to Pupil Capture/Service is not necessarily stable,\n",
    "    one has to assume that the delays to send and receive commands are not symmetrical\n",
    "    and might vary. To reduce the possible clock-offset estimation error, this function\n",
    "    repeats the measurement multiple times and returns the mean clock offset.\n",
    "    The variance of these measurements is expected to be higher for remote connections\n",
    "    (two different computers) than for local connections (script and Core software\n",
    "    running on the same computer). You can easily extend this function to perform\n",
    "    further statistical analysis on your clock-offset measurements to examine the\n",
    "    accuracy of the time sync.\n",
    "    \"\"\"\n",
    "    assert n_samples > 0, \"Requires at least one sample\"\n",
    "    offsets = [\n",
    "        measure_clock_offset(pupil_remote, clock_function) for x in range(n_samples)\n",
    "    ]\n",
    "    return sum(offsets) / len(offsets)  # mean offset\n",
    "\n",
    "\n",
    "def notify(pupil_remote, notification):\n",
    "    \"\"\"Sends ``notification`` to Pupil Remote\"\"\"\n",
    "    topic = \"notify.\" + notification[\"subject\"]\n",
    "    payload = serializer.dumps(notification, use_bin_type=True)\n",
    "    pupil_remote.send_string(topic, flags=zmq.SNDMORE)\n",
    "    pupil_remote.send(payload)\n",
    "    return pupil_remote.recv_string()\n",
    "\n",
    "\n",
    "def send_trigger(pub_socket, trigger):\n",
    "    \"\"\"Sends annotation via PUB port\"\"\"\n",
    "    payload = serializer.dumps(trigger, use_bin_type=True)\n",
    "    pub_socket.send_string(trigger[\"topic\"], flags=zmq.SNDMORE)\n",
    "    pub_socket.send(payload)\n",
    "\n",
    "\n",
    "def new_trigger(label, duration, timestamp):\n",
    "    \"\"\"Creates a new trigger/annotation to send to Pupil Capture\"\"\"\n",
    "    return {\n",
    "        \"topic\": \"annotation\",\n",
    "        \"label\": label,\n",
    "        \"timestamp\": timestamp,\n",
    "        \"duration\": duration,\n",
    "    }\n",
    "\n",
    "\n",
    "if __name__ == \"__main__\":\n",
    "    main()"
   ]
  },
  {
   "cell_type": "code",
   "execution_count": 12,
   "metadata": {},
   "outputs": [],
   "source": [
    "    def notify(notification):\n",
    "        \"\"\"Sends ``notification`` to Pupil Remote\"\"\"\n",
    "        topic = \"notify.\" + notification[\"subject\"]\n",
    "        payload = serializer.dumps(notification, use_bin_type=True)\n",
    "        pupil_remote.send_string(topic, flags=zmq.SNDMORE)\n",
    "        pupil_remote.send(payload)\n",
    "        return pupil_remote.recv_string()\n",
    "\n",
    "    def send_trigger(trigger):\n",
    "        payload = serializer.dumps(trigger, use_bin_type=True)\n",
    "        pub_socket.send_string(trigger[\"topic\"], flags=zmq.SNDMORE)\n",
    "        pub_socket.send(payload)\n"
   ]
  },
  {
   "cell_type": "code",
   "execution_count": 19,
   "metadata": {},
   "outputs": [
    {
     "data": {
      "text/plain": [
       "<contextlib._GeneratorContextManager at 0x7fcdc03b4bb0>"
      ]
     },
     "execution_count": 19,
     "metadata": {},
     "output_type": "execute_result"
    }
   ],
   "source": [
    "    import zmq\n",
    "    import msgpack as serializer\n",
    "\n",
    "    from time import sleep, time\n",
    "\n",
    "    # Setup zmq context and remote helper\n",
    "    ctx = zmq.Context()\n",
    "    pupil_remote = zmq.Socket(ctx, zmq.REQ)\n",
    "    pupil_remote.connect('tcp://127.0.0.1:50020')\n",
    "\n",
    "    pupil_remote.send_string(\"PUB_PORT\")\n",
    "    pub_port = pupil_remote.recv_string()\n",
    "    pub_socket = zmq.Socket(ctx, zmq.PUB)\n",
    "    pub_socket.connect(\"tcp://127.0.0.1:\" + str(pub_port))"
   ]
  },
  {
   "cell_type": "code",
   "execution_count": 14,
   "metadata": {},
   "outputs": [
    {
     "name": "stdout",
     "output_type": "stream",
     "text": [
      "Timesync successful.\n"
     ]
    },
    {
     "data": {
      "text/plain": [
       "'Message forwarded.'"
      ]
     },
     "execution_count": 14,
     "metadata": {},
     "output_type": "execute_result"
    }
   ],
   "source": [
    "pupil_remote.send_string(\"T \" + \n",
    "print(pupil_remote.recv_string())\n",
    "notify({\"subject\": \"start_plugin\", \"name\": \"Annotation_Capture\", \"args\": {}})"
   ]
  },
  {
   "cell_type": "code",
   "execution_count": 22,
   "metadata": {},
   "outputs": [],
   "source": [
    "    def new_trigger(label, duration):\n",
    "        return {\n",
    "        \"topic\": \"annotation\",\n",
    "        \"label\": label,\n",
    "        \"timestamp\": 0.56,#time_fn(),\n",
    "        \"duration\": duration,\n",
    "        }\n",
    "    "
   ]
  },
  {
   "cell_type": "code",
   "execution_count": 28,
   "metadata": {},
   "outputs": [
    {
     "name": "stdout",
     "output_type": "stream",
     "text": [
      "OK\n",
      "OK\n"
     ]
    }
   ],
   "source": [
    "    pupil_remote.send_string('R pupil')\n",
    "    print(pupil_remote.recv_string())\n",
    "    sleep(0.25)\n",
    "    pupil_remote.send_string('r')\n",
    "    print(pupil_remote.recv_string())\n",
    "    "
   ]
  },
  {
   "cell_type": "code",
   "execution_count": 24,
   "metadata": {},
   "outputs": [],
   "source": [
    "    label = \"jumping_jack\"\n",
    "    duration = 0.\n",
    "    minimal_trigger = new_trigger(label, duration)\n",
    "    send_trigger(minimal_trigger)\n",
    "    sleep(1.)"
   ]
  },
  {
   "cell_type": "code",
   "execution_count": 25,
   "metadata": {},
   "outputs": [
    {
     "name": "stdout",
     "output_type": "stream",
     "text": [
      "OK\n"
     ]
    }
   ],
   "source": [
    "    pupil_remote.send_string('r')\n",
    "    print(pupil_remote.recv_string())"
   ]
  },
  {
   "cell_type": "code",
   "execution_count": null,
   "metadata": {},
   "outputs": [],
   "source": []
  }
 ],
 "metadata": {
  "kernelspec": {
   "display_name": "Python 3",
   "language": "python",
   "name": "python3"
  },
  "language_info": {
   "codemirror_mode": {
    "name": "ipython",
    "version": 3
   },
   "file_extension": ".py",
   "mimetype": "text/x-python",
   "name": "python",
   "nbconvert_exporter": "python",
   "pygments_lexer": "ipython3",
   "version": "3.8.8"
  }
 },
 "nbformat": 4,
 "nbformat_minor": 4
}
